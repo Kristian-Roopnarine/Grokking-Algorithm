{
 "cells": [
  {
   "cell_type": "markdown",
   "metadata": {},
   "source": [
    "## Computer storage\n",
    "\n",
    "How is data stored in a computer? Picture your computer as one giant drawer, similar to where people store clothes. When you want to put an article of clothing, you open it and store it in a specific drawer. In a computer, each of these drawers is an address to where that data is stored. Each time you want to store something in memory, you basically ask the computer to assign that data some address where it can store your item. "
   ]
  },
  {
   "cell_type": "markdown",
   "metadata": {},
   "source": [
    "------"
   ]
  },
  {
   "cell_type": "markdown",
   "metadata": {},
   "source": [
    "## Arrays\n",
    "\n",
    "Arrays are a collection of data. Depending on your language this can be strings, numbers, objects, other data types and much more. An Array stores information similar to if you went to the movies with your friends. Typically, you'd buy tickets that are adjacent to one another, and if there's no space you'll look for other spots in the theater where all your friends can fit in one row. Arrays are very similar, it stores information in adjacent addresses on the computer. If you add an element and it turns out the next address is being used, the whole array has to be moved to fit all the elements in consecutive order. This makes it very inefficient to insert data into an array. When you insert data somewhere in the array, all the elements have to be shifted down. Even though Arrays have this downfall, they are excellent at searching because the computer knows the addresses for every item."
   ]
  },
  {
   "cell_type": "markdown",
   "metadata": {},
   "source": [
    "------"
   ]
  },
  {
   "cell_type": "markdown",
   "metadata": {},
   "source": [
    "## Linked Lists\n",
    "\n",
    "With Linked Lists your items can be anywhere in memory. Each item stores the address of the next item on the list, meaning a bunch of random memory addressses are linked together. Adding an element is fairly easy too, you can stick it anywhere in memory because the previous item will store that address. Due to this flexibility linked lists are excellent at inserting elements. If you add one element in the middle of the list, only the addresses of the the elements after it have to be assigned. However, when searching for an element it is very inefficient with linked lists. The address of every element is stored in the previous element. If I wanted to read the last item in a linked list, I'd have to start at item # 1 and read every element until I get to the item I wanted. "
   ]
  },
  {
   "cell_type": "markdown",
   "metadata": {},
   "source": [
    "------"
   ]
  },
  {
   "cell_type": "markdown",
   "metadata": {},
   "source": [
    "## Big O notation for Searching, Inserting and Deleting in a Linked List\n",
    "\n",
    "Reading and Insertion for Arrays:\n",
    "\n",
    "* Reading is O(1) time\n",
    "* Insertion is O(n) time\n",
    "\n",
    "Reading and Insertion of Linked Lists:\n",
    "\n",
    "* Reading is O(n) time\n",
    "* Inserting is O(1) time\n",
    "\n",
    "Deletion for Arrays and Linked Lists:\n",
    "\n",
    "* Arrays are O(n) time for deletion\n",
    "* Linked List are O(1) for deletion"
   ]
  },
  {
   "cell_type": "markdown",
   "metadata": {},
   "source": [
    "------"
   ]
  },
  {
   "cell_type": "markdown",
   "metadata": {},
   "source": [
    "## Selection Sort\n",
    "\n",
    "\n",
    "Let's say you have a list of your songs and their play count and you want to sort the list based on the song you play the most. Selection sort searches the list for either the lowest or highest value and populates a new list with that value. We repeat this process until every element has been moved to the new list which is sorted. in Big O notation this runs in O(n^2) time because you have to search through the first list for _n_ elements (every element), push to a new list and repeat this _n_ times. \n",
    "\n",
    "## Coding Selection sort in Python\n",
    "\n",
    "```python \n",
    "def findSmallest(arr): # finds the smallest value\n",
    "    smallest = arr[0]\n",
    "    smallest_index = 0\n",
    "    for i in range(1,len(arr)):\n",
    "        if arr[i] < smallest:\n",
    "            smallest = arr[i]\n",
    "            smallest_index = i\n",
    "        return smallest_index\n",
    "    \n",
    "def selectionSort(arr):# pushes into new list\n",
    "    newArr = []\n",
    "    for i in range(len(arr)):\n",
    "        smallest = findSmallest(arr)\n",
    "        newArr.append(arr.pop(smallest))\n",
    "    return newArr\n",
    "```        "
   ]
  },
  {
   "cell_type": "markdown",
   "metadata": {},
   "source": []
  },
  {
   "cell_type": "markdown",
   "metadata": {},
   "source": []
  },
  {
   "cell_type": "markdown",
   "metadata": {},
   "source": []
  },
  {
   "cell_type": "markdown",
   "metadata": {},
   "source": []
  },
  {
   "cell_type": "markdown",
   "metadata": {},
   "source": []
  },
  {
   "cell_type": "markdown",
   "metadata": {},
   "source": []
  }
 ],
 "metadata": {
  "kernelspec": {
   "display_name": "Python 3",
   "language": "python",
   "name": "python3"
  },
  "language_info": {
   "codemirror_mode": {
    "name": "ipython",
    "version": 3
   },
   "file_extension": ".py",
   "mimetype": "text/x-python",
   "name": "python",
   "nbconvert_exporter": "python",
   "pygments_lexer": "ipython3",
   "version": "3.7.3"
  }
 },
 "nbformat": 4,
 "nbformat_minor": 2
}
