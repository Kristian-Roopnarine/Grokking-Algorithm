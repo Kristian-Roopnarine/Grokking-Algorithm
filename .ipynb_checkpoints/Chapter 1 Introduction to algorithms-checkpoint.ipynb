{
 "cells": [
  {
   "cell_type": "markdown",
   "metadata": {},
   "source": [
    "## Introduction\n",
    "\n",
    "An algorithm is a set of instructions that accomplishes a task. Almost any piece of code can be called an algorithm."
   ]
  },
  {
   "cell_type": "markdown",
   "metadata": {},
   "source": [
    "-----"
   ]
  },
  {
   "cell_type": "markdown",
   "metadata": {},
   "source": [
    "## Binary Search\n",
    "\n",
    "If you were to search for a person in a phone book, how would you do that? If you knew their name began with a K, you could start at A and keep skipping pages until you get to K. More likely you'll skip towards the middle of the book and start there because you know K is closer to the middle than the beginning. This is an example of _binary search _.\n",
    "\n",
    "Binary search is an algorithm where it's input is a sorted list of elements and it returns the element you're looking for in the list. It will return null if nothing is found.\n",
    "\n",
    "Let's say we were playing a guessing game. I had a number between 1-100 and you had to guess what it was, after your guess I would tell you whether the number was too low or too high. One approach could be starting at 1 and going through each number. However, if my number was 99, it would take you 99 guesses! This is called _simple search_.\n",
    "\n",
    "### A better way to search\n",
    "\n",
    "A better approach might be to start at 50. It turns out that number is too low, and now you've eliminated half the list! You know that it could not be a number between 1-49, and it has to be between 50-100. Your next guess might be 75 because it is in the middle of 50-100. 75 is too high and now you've eliminated half the list again! The number has to be between 50-75. This is _binary search_. <br>\n",
    "_With binary search, you guess the middle number and eliminate half the remaining numbers everytime._\n",
    "\n",
    "Let's take this example up a notch. Imagine you're trying to look for a word in the dictionary that contains 240,000 words. Using simple search it could take us 240,000 steps to look for the word. However, using binary search it would take us 18 steps. We cut the words in half until you're left with only one word. We say that binary search would have a runtime of log(_n_) steps to run while simple search will take _n_ steps."
   ]
  },
  {
   "cell_type": "markdown",
   "metadata": {},
   "source": [
    "-----"
   ]
  },
  {
   "cell_type": "markdown",
   "metadata": {},
   "source": [
    "## How do we code Binary Search?\n",
    "\n",
    "In the beginning we need the length of the array, and the highest and lowest index to calculate the middle index.\n",
    "\n",
    "```python\n",
    "low = 0\n",
    "high = len(list) -1\n",
    "```\n",
    "\n",
    "Now we check the middle element.\n",
    "\n",
    "```python\n",
    "middle = (low+high)//2\n",
    "guess = list[mid]\n",
    "```\n",
    "\n",
    "If the guess is too low we need to update the low index.\n",
    "\n",
    "```python\n",
    "if guess < item:\n",
    "    low = mid + 1\n",
    "```\n",
    "\n",
    "If the guess is too high we need to update the high index.\n",
    "\n",
    "```python\n",
    "if guess > item:\n",
    "    high = mid +1\n",
    "```\n",
    "\n",
    "The full code to Binary Search.\n",
    "\n",
    "```python\n",
    "\n",
    "def binary_search(list,item):\n",
    "    low = 0\n",
    "    high = len(list)-1\n",
    "    \n",
    "    while low <= high:\n",
    "        mid = (low + high)//2\n",
    "        guess = list[mid]\n",
    "        if guess == item:\n",
    "            return mid\n",
    "        if guess > item:\n",
    "            high = mid + 1\n",
    "        else:\n",
    "            low = mid + 1\n",
    "    return None\n",
    "```\n",
    "            "
   ]
  },
  {
   "cell_type": "markdown",
   "metadata": {},
   "source": [
    "-----"
   ]
  },
  {
   "cell_type": "markdown",
   "metadata": {},
   "source": [
    "## Running time of algorithms\n",
    "\n",
    "A huge advantage of using these algorithms are their running time. As these inputs get larger these algorithms still perform efficiently, but how do we measure this? We measure the efficiency of an algorithm using Big-O notation. This measures the growth in amount of operations for an algorithm. For example, let's say you had a list of 32 names that you'd like to search through. With simple search it would take 32 operations to search through 32 names in the worst case scenario. Using binary search it would take 5 operations. If we double this list to 64 names, it would take simple search 64 operations to search through the list and binary search 6 operations in the worst case scenario. Notice that as the input gets larger the amount of operations for simple search increases linearly, this is called _linear time_ and we express this in Big-O notation as O(_n_). This simply means that the amount of operations an algorithm has to perform is the same as the input. Binary search runs in _logarithmic time_ which is equivalent to O(log(_n_)). \n",
    "\n",
    "Some common Big O run times:\n",
    "\n",
    "* O(log_n_), also known as log time.\n",
    "* O(_n_), also known as linear time\n",
    "* O(_n_ * log_n_) a fast sorting algorithm like quicksort\n",
    "* O(_n_^2) a slow sorting algorithm like selection sort\n",
    "* O(_n_!) a really slow algorithm like the travelling salesperson.\n",
    "\n",
    "Algorithm speed isn't measured in seconds, but in growth of the number of operations. We talk about how quickly the run time of an algorithm increases as the size of the input increases. This run time is expressed in Big O notation. When considering Big O notation we always consider the worst case scenario of an algorithm. If we were using simple search we could make the correct search on the first operation, which would make it incredibly efficient. However, this will not always be the case so to compare different algorithms we use the worst case scenario, which is searching every input in the list, and average worst case scenario."
   ]
  },
  {
   "cell_type": "code",
   "execution_count": null,
   "metadata": {},
   "outputs": [],
   "source": []
  }
 ],
 "metadata": {
  "kernelspec": {
   "display_name": "Python 3",
   "language": "python",
   "name": "python3"
  },
  "language_info": {
   "codemirror_mode": {
    "name": "ipython",
    "version": 3
   },
   "file_extension": ".py",
   "mimetype": "text/x-python",
   "name": "python",
   "nbconvert_exporter": "python",
   "pygments_lexer": "ipython3",
   "version": "3.7.3"
  }
 },
 "nbformat": 4,
 "nbformat_minor": 2
}
